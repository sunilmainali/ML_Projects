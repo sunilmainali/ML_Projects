{
 "cells": [
  {
   "cell_type": "code",
   "execution_count": 1,
   "id": "d000728a-a239-4f1b-914c-671d1b73915c",
   "metadata": {},
   "outputs": [],
   "source": [
    "import pickle\n",
    "import numpy as np"
   ]
  },
  {
   "cell_type": "code",
   "execution_count": 2,
   "id": "a0152fbe-2adb-42bb-be87-ab7e2a654f60",
   "metadata": {},
   "outputs": [],
   "source": [
    "Labels = {\n",
    "    0: 'Iris-setosa',\n",
    "    1 : 'Iris-versicolor', \n",
    "    2 : 'Iris-virginica'\n",
    "}"
   ]
  },
  {
   "cell_type": "code",
   "execution_count": 3,
   "id": "345385ef-c7c5-403f-9280-a09b490d9d8f",
   "metadata": {},
   "outputs": [],
   "source": [
    "user_input=np.array([[5.55,3.10,1.9,0.77]])"
   ]
  },
  {
   "cell_type": "code",
   "execution_count": 6,
   "id": "9b41344b-63b9-4df0-a4cb-8619fe7dbf57",
   "metadata": {},
   "outputs": [],
   "source": [
    "scaler=pickle.load(open(\"standard_scaler.pkl\",\"rb\"))\n",
    "model=pickle.load(open(\"model.pkl\",\"rb\"))"
   ]
  },
  {
   "cell_type": "code",
   "execution_count": 10,
   "id": "5568e937-19de-474b-af43-43b74ede7d3b",
   "metadata": {},
   "outputs": [],
   "source": [
    "output=model.predict(scaler.transform(user_input))"
   ]
  },
  {
   "cell_type": "code",
   "execution_count": 14,
   "id": "9503d349-9caf-4c45-9db6-891c5be565ad",
   "metadata": {},
   "outputs": [
    {
     "data": {
      "text/plain": [
       "'Iris-setosa'"
      ]
     },
     "execution_count": 14,
     "metadata": {},
     "output_type": "execute_result"
    }
   ],
   "source": [
    "user_output=Labels[output[0]]\n",
    "user_output"
   ]
  },
  {
   "cell_type": "code",
   "execution_count": null,
   "id": "db710fcf-0480-4d67-9575-3ce475f54d18",
   "metadata": {},
   "outputs": [],
   "source": []
  }
 ],
 "metadata": {
  "kernelspec": {
   "display_name": "Python 3 (ipykernel)",
   "language": "python",
   "name": "python3"
  },
  "language_info": {
   "codemirror_mode": {
    "name": "ipython",
    "version": 3
   },
   "file_extension": ".py",
   "mimetype": "text/x-python",
   "name": "python",
   "nbconvert_exporter": "python",
   "pygments_lexer": "ipython3",
   "version": "3.11.5"
  }
 },
 "nbformat": 4,
 "nbformat_minor": 5
}
