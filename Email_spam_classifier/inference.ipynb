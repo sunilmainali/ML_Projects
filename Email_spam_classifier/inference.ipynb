{
 "cells": [
  {
   "cell_type": "code",
   "execution_count": 7,
   "id": "5862cc1c",
   "metadata": {},
   "outputs": [],
   "source": [
    "import pickle\n",
    "import nltk\n",
    "import string\n",
    "from nltk.corpus import stopwords\n",
    "from nltk.stem.porter import PorterStemmer\n",
    "\n"
   ]
  },
  {
   "cell_type": "code",
   "execution_count": 8,
   "id": "589d4079",
   "metadata": {},
   "outputs": [],
   "source": [
    "# Load pre-trained model and TF-IDF vectorizer\n",
    "tfidf = pickle.load(open('vectorizer.pkl', 'rb'))\n",
    "model = pickle.load(open('model.pkl', 'rb'))\n"
   ]
  },
  {
   "cell_type": "code",
   "execution_count": 9,
   "id": "90e0ea1d",
   "metadata": {},
   "outputs": [],
   "source": [
    "ps = PorterStemmer()\n",
    "\n",
    "def transform_text(Text):\n",
    "    Text = Text.lower()\n",
    "    Text = nltk.word_tokenize(Text)\n",
    "    \n",
    "    y = []\n",
    "    for i in Text:\n",
    "        if i.isalnum():\n",
    "            y.append(i)\n",
    "    Text = y[:]\n",
    "    y.clear()\n",
    "    \n",
    "    for i in Text:\n",
    "        if i not in stopwords.words('english') and i not in string.punctuation:\n",
    "            y.append(i)\n",
    "    Text = y[:]\n",
    "    y.clear()\n",
    "    \n",
    "    for i in Text:\n",
    "        y.append(ps.stem(i))\n",
    "        \n",
    "    return \" \".join(y)"
   ]
  },
  {
   "cell_type": "code",
   "execution_count": 26,
   "id": "4ae86909",
   "metadata": {},
   "outputs": [],
   "source": [
    "def classify_email(email):\n",
    "\n",
    "    # Preprocess the email message\n",
    "    transformed_email = transform_text(email)\n",
    "    \n",
    "    # Vectorize the preprocessed email message\n",
    "    vectorized_email = tfidf.transform([transformed_email])\n",
    "    \n",
    "    # Convert sparse input data to dense data\n",
    "   # if isinstance(vectorized_email, csr_matrix):\n",
    "    vectorized_email = vectorized_email.toarray()\n",
    "    \n",
    "    # Predict the class label (1 for spam, 0 for not spam)\n",
    "    result = model.predict(vectorized_email)\n",
    "    \n",
    "    return result"
   ]
  },
  {
   "cell_type": "code",
   "execution_count": 36,
   "id": "3830db03",
   "metadata": {},
   "outputs": [
    {
     "name": "stdout",
     "output_type": "stream",
     "text": [
      "Enter your email messageAccident compensation  you have still not claimed the compensation you are due for the accident you had.to start this process please reply yes.to opt out text stop\n",
      "The email is classified as: spam\n"
     ]
    }
   ],
   "source": [
    "email_message = input(\"Enter your email message\" )\n",
    "result = classify_email(email_message)\n",
    "print(\"The email is classified as:\", \"spam\" if result == 1 else \"not spam\")"
   ]
  },
  {
   "cell_type": "code",
   "execution_count": null,
   "id": "f6097336",
   "metadata": {},
   "outputs": [],
   "source": []
  },
  {
   "cell_type": "code",
   "execution_count": null,
   "id": "a3850db4",
   "metadata": {},
   "outputs": [],
   "source": []
  },
  {
   "cell_type": "code",
   "execution_count": null,
   "id": "d91aec78",
   "metadata": {},
   "outputs": [],
   "source": []
  }
 ],
 "metadata": {
  "kernelspec": {
   "display_name": "Python 3 (ipykernel)",
   "language": "python",
   "name": "python3"
  },
  "language_info": {
   "codemirror_mode": {
    "name": "ipython",
    "version": 3
   },
   "file_extension": ".py",
   "mimetype": "text/x-python",
   "name": "python",
   "nbconvert_exporter": "python",
   "pygments_lexer": "ipython3",
   "version": "3.11.5"
  }
 },
 "nbformat": 4,
 "nbformat_minor": 5
}
