{
 "cells": [
  {
   "cell_type": "code",
   "execution_count": 1,
   "id": "679cf0f4-ee47-4642-b63b-fca9098e2df4",
   "metadata": {},
   "outputs": [],
   "source": [
    "import re\n",
    "import string\n",
    "import nltk\n",
    "from nltk.corpus import stopwords\n",
    "from nltk.stem import WordNetLemmatizer\n",
    "import pickle"
   ]
  },
  {
   "cell_type": "code",
   "execution_count": 2,
   "id": "3b120a9e-dc22-4c6a-8310-2cb4c3fe4e76",
   "metadata": {},
   "outputs": [],
   "source": [
    "tfidf=pickle.load(open(\"rfc_vectorizer.pkl\",\"rb\"))\n",
    "model=pickle.load(open(\"rfc_model.pkl\",\"rb\"))"
   ]
  },
  {
   "cell_type": "code",
   "execution_count": 5,
   "id": "83a46ace-6132-429d-b2c7-a47b6af7f7fa",
   "metadata": {},
   "outputs": [],
   "source": [
    "stop_words = set(stopwords.words('english'))\n",
    "lemmatizer = WordNetLemmatizer()\n",
    "def text_process(text):\n",
    "    # Tokenize text\n",
    "    tokens = nltk.word_tokenize(text)\n",
    "    \n",
    "    # Convert tokens to lowercase\n",
    "    tokens = [word.lower() for word in tokens]\n",
    "    \n",
    "    # Convert list of tokens to a single string\n",
    "    text = ' '.join(tokens)\n",
    "    \n",
    "    # Function to remove HTML tags\n",
    "    def remove_html_tags(text):\n",
    "        clean_text = re.sub(r'<.*?>', '', text)\n",
    "        return clean_text\n",
    "    \n",
    "    # Function to remove stopwords\n",
    "    def remove_stopwords(text):\n",
    "        words = [word for word in text.split() if word.lower() not in stop_words]\n",
    "        return \" \".join(words)\n",
    "    \n",
    "    # Function to clean URLs\n",
    "    def clean_url(text):\n",
    "        text = re.sub(r\"((https:|http|ftp)?(:\\/\\/)?(www\\.)?)?[-a-zA-Z0-9@:%._\\+~#=]{1,256}\\.[a-zA-Z0-9()]{1,6}\\b([-a-zA-Z0-9()@:%_\\+.~#?&\\/\\/=]*)\", ' ', text)\n",
    "        return re.sub(r'/', ' / ', text)\n",
    "    \n",
    "    # Function to clean punctuations\n",
    "    def clean_punctuations(text):\n",
    "        return text.translate(str.maketrans('', '', string.punctuation))\n",
    "    \n",
    "    # Function to remove repeating characters\n",
    "    def clean_repeating_char(text):\n",
    "        return re.sub(r\"(.)\\1\\1+\", r\"\\1\\1\", text)\n",
    "    \n",
    "    # Function to clean numbers\n",
    "    def clean_numbers(text):\n",
    "        return re.sub('[0-9]+', '', text)\n",
    "    \n",
    "    # Function to remove hashtags\n",
    "    def remove_hashtag(text):\n",
    "        return re.sub('#[\\w\\d]+', ' ', text)\n",
    "    \n",
    "    # Function to clean usernames\n",
    "    def clean_username(text):\n",
    "        return re.sub('@[^\\s]+', ' ', text)\n",
    "    \n",
    "    # Function to clean emojis and non-ASCII characters\n",
    "    def clean_non_ascii(text):\n",
    "        text = text.encode(\"ascii\", \"ignore\").decode()\n",
    "        return text\n",
    "    \n",
    "    # Function to remove images\n",
    "    def remove_images(tweet):\n",
    "        cleaned_tweet = re.sub(r\"pic\\.twitter\\.com/\\S+\", '', tweet)\n",
    "        cleaned_tweet = re.sub(\"\\w+(\\.png|\\.jpg|\\.gif|\\.jpeg)\", \" \", cleaned_tweet)\n",
    "        return cleaned_tweet\n",
    "    \n",
    "    # Function to lemmatize words\n",
    "    def lemmatize_words(text):\n",
    "        return \" \".join([lemmatizer.lemmatize(word) for word in text.split()])\n",
    "    \n",
    "    # Apply all preprocessing steps\n",
    "    text = remove_html_tags(text)\n",
    "    text = remove_stopwords(text)\n",
    "    text = clean_url(text)\n",
    "    text = clean_punctuations(text)\n",
    "    text = clean_repeating_char(text)\n",
    "    text = clean_numbers(text)\n",
    "    text = remove_hashtag(text)\n",
    "    text = clean_username(text)\n",
    "    text = clean_non_ascii(text)  \n",
    "    text = remove_images(text)\n",
    "    text = lemmatize_words(text)\n",
    "    \n",
    "    return text\n"
   ]
  },
  {
   "cell_type": "code",
   "execution_count": 6,
   "id": "423c6561-8579-49be-bf38-e118185c8b8d",
   "metadata": {},
   "outputs": [],
   "source": [
    "def classify_sentiment(tweet):\n",
    "    transformed_tweet=text_process(tweet)\n",
    "    vectorized_tweet=tfidf.transform([transformed_tweet])\n",
    "    result=model.predict(vectorized_tweet)\n",
    "\n",
    "    return result\n",
    "    "
   ]
  },
  {
   "cell_type": "code",
   "execution_count": 22,
   "id": "8cdd098b-c86e-43a5-99c9-4f7086bd9c81",
   "metadata": {},
   "outputs": [
    {
     "name": "stdin",
     "output_type": "stream",
     "text": [
      "Enter tweet message:  dont make me angry\n"
     ]
    },
    {
     "name": "stdout",
     "output_type": "stream",
     "text": [
      "The tweet is Negative\n"
     ]
    }
   ],
   "source": [
    "input_tweet=input(\"Enter tweet message: \")\n",
    "result=classify_sentiment(input_tweet)\n",
    "if result==0:\n",
    "    print('The tweet is irrelevant')\n",
    "elif result==1:\n",
    "      print('The tweet is Negative')\n",
    "elif result==2:\n",
    "      print('The tweet is Neutral')\n",
    "else:\n",
    "      print('The tweet is Positive')\n",
    "    "
   ]
  },
  {
   "cell_type": "code",
   "execution_count": null,
   "id": "9fc6ba4f-d5ca-4bc2-9aba-7001dfe6eeac",
   "metadata": {},
   "outputs": [],
   "source": []
  }
 ],
 "metadata": {
  "kernelspec": {
   "display_name": "Python 3 (ipykernel)",
   "language": "python",
   "name": "python3"
  },
  "language_info": {
   "codemirror_mode": {
    "name": "ipython",
    "version": 3
   },
   "file_extension": ".py",
   "mimetype": "text/x-python",
   "name": "python",
   "nbconvert_exporter": "python",
   "pygments_lexer": "ipython3",
   "version": "3.11.5"
  }
 },
 "nbformat": 4,
 "nbformat_minor": 5
}
